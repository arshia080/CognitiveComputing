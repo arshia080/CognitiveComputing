{
  "nbformat": 4,
  "nbformat_minor": 0,
  "metadata": {
    "colab": {
      "provenance": []
    },
    "kernelspec": {
      "name": "python3",
      "display_name": "Python 3"
    },
    "language_info": {
      "name": "python"
    }
  },
  "cells": [
    {
      "cell_type": "code",
      "execution_count": 1,
      "metadata": {
        "colab": {
          "base_uri": "https://localhost:8080/"
        },
        "id": "Wu_dU0uRCu2S",
        "outputId": "6c34a73f-3439-4ef6-ac13-d7cc4d9b1924"
      },
      "outputs": [
        {
          "output_type": "stream",
          "name": "stderr",
          "text": [
            "[nltk_data] Downloading package punkt to /root/nltk_data...\n",
            "[nltk_data]   Unzipping tokenizers/punkt.zip.\n",
            "[nltk_data] Downloading package stopwords to /root/nltk_data...\n",
            "[nltk_data]   Unzipping corpora/stopwords.zip.\n",
            "[nltk_data] Downloading package wordnet to /root/nltk_data...\n",
            "[nltk_data] Downloading package punkt_tab to /root/nltk_data...\n",
            "[nltk_data]   Unzipping tokenizers/punkt_tab.zip.\n"
          ]
        },
        {
          "output_type": "execute_result",
          "data": {
            "text/plain": [
              "True"
            ]
          },
          "metadata": {},
          "execution_count": 1
        }
      ],
      "source": [
        "import nltk\n",
        "import re\n",
        "import string\n",
        "from nltk.tokenize import word_tokenize, sent_tokenize\n",
        "from nltk.corpus import stopwords\n",
        "from nltk.stem import PorterStemmer, LancasterStemmer, WordNetLemmatizer\n",
        "from nltk import FreqDist\n",
        "\n",
        "nltk.download('punkt')\n",
        "nltk.download('stopwords')\n",
        "nltk.download('wordnet')\n",
        "nltk.download('punkt_tab')"
      ]
    },
    {
      "cell_type": "code",
      "source": [
        "text='I love painting and reading. They help me relax and make me happy. It helps me reflect and respond in color and texture. Both activities require focus and attention.'\n",
        "text_lower=text.lower()\n",
        "text_clean=text_lower.translate(str.maketrans('', '', string.punctuation))\n",
        "print(\"Cleaned text: \", text_clean)\n",
        "\n",
        "word_tokens=word_tokenize(text_clean)\n",
        "sent_tokens=sent_tokenize(text)\n",
        "\n",
        "print(\"Text after word tokenization: \", word_tokens)\n",
        "print(\"Text after sentence tokenization: \", sent_tokens)\n",
        "\n",
        "sent_split=text.split()\n",
        "print(\"Text after tokenization done using split()\", sent_split)\n",
        "\n",
        "sent_split=text.split()\n",
        "print(\"Text after tokenization done using split()\", sent_split)\n",
        "\n",
        "stop_words = set(stopwords.words('english'))\n",
        "filter= [i for i in word_tokens if i.lower() not in stop_words]\n",
        "print(\"Filtered Words:\", filter)\n",
        "\n",
        "fd = FreqDist(filter)\n",
        "fd.plot(10, title=\"Top Words\")"
      ],
      "metadata": {
        "colab": {
          "base_uri": "https://localhost:8080/",
          "height": 656
        },
        "id": "zUOTM_XuDHUD",
        "outputId": "36eb4a08-c1a4-431e-b950-e7bdb12cc95d"
      },
      "execution_count": 2,
      "outputs": [
        {
          "output_type": "stream",
          "name": "stdout",
          "text": [
            "Cleaned text:  i love painting and reading they help me relax and make me happy it helps me reflect and respond in color and texture both activities require focus and attention\n",
            "Text after word tokenization:  ['i', 'love', 'painting', 'and', 'reading', 'they', 'help', 'me', 'relax', 'and', 'make', 'me', 'happy', 'it', 'helps', 'me', 'reflect', 'and', 'respond', 'in', 'color', 'and', 'texture', 'both', 'activities', 'require', 'focus', 'and', 'attention']\n",
            "Text after sentence tokenization:  ['I love painting and reading.', 'They help me relax and make me happy.', 'It helps me reflect and respond in color and texture.', 'Both activities require focus and attention.']\n",
            "Text after tokenization done using split() ['I', 'love', 'painting', 'and', 'reading.', 'They', 'help', 'me', 'relax', 'and', 'make', 'me', 'happy.', 'It', 'helps', 'me', 'reflect', 'and', 'respond', 'in', 'color', 'and', 'texture.', 'Both', 'activities', 'require', 'focus', 'and', 'attention.']\n",
            "Text after tokenization done using split() ['I', 'love', 'painting', 'and', 'reading.', 'They', 'help', 'me', 'relax', 'and', 'make', 'me', 'happy.', 'It', 'helps', 'me', 'reflect', 'and', 'respond', 'in', 'color', 'and', 'texture.', 'Both', 'activities', 'require', 'focus', 'and', 'attention.']\n",
            "Filtered Words: ['love', 'painting', 'reading', 'help', 'relax', 'make', 'happy', 'helps', 'reflect', 'respond', 'color', 'texture', 'activities', 'require', 'focus', 'attention']\n"
          ]
        },
        {
          "output_type": "execute_result",
          "data": {
            "text/plain": [
              "<Axes: title={'center': 'Top Words'}, xlabel='Samples', ylabel='Counts'>"
            ]
          },
          "metadata": {},
          "execution_count": 2
        },
        {
          "output_type": "display_data",
          "data": {
            "text/plain": [
              "<Figure size 640x480 with 1 Axes>"
            ],
            "image/png": "[encoded data removed]"
          },
          "metadata": {}
        }
      ]
    },
    {
      "cell_type": "code",
      "source": [
        "only_alpha = re.findall(r'\\b[a-zA-Z]+\\b', text)\n",
        "print(only_alpha)\n",
        "ps=PorterStemmer()\n",
        "stemmed=[ps.stem(i) for i in filter]\n",
        "print(\"Stemmed words: \", stemmed)\n",
        "\n",
        "l=WordNetLemmatizer()\n",
        "lemmatized=[l.lemmatize(i.lower()) for i in filter]\n",
        "print(\"Lemmatized words: \", lemmatized)"
      ],
      "metadata": {
        "colab": {
          "base_uri": "https://localhost:8080/"
        },
        "id": "z_CGXnBxDJ1v",
        "outputId": "06cb4695-c0f3-4e45-de08-e3adb549ac64"
      },
      "execution_count": 3,
      "outputs": [
        {
          "output_type": "stream",
          "name": "stdout",
          "text": [
            "['I', 'love', 'painting', 'and', 'reading', 'They', 'help', 'me', 'relax', 'and', 'make', 'me', 'happy', 'It', 'helps', 'me', 'reflect', 'and', 'respond', 'in', 'color', 'and', 'texture', 'Both', 'activities', 'require', 'focus', 'and', 'attention']\n",
            "Stemmed words:  ['love', 'paint', 'read', 'help', 'relax', 'make', 'happi', 'help', 'reflect', 'respond', 'color', 'textur', 'activ', 'requir', 'focu', 'attent']\n",
            "Lemmatized words:  ['love', 'painting', 'reading', 'help', 'relax', 'make', 'happy', 'help', 'reflect', 'respond', 'color', 'texture', 'activity', 'require', 'focus', 'attention']\n"
          ]
        }
      ]
    },
    {
      "cell_type": "code",
      "source": [
        "long_words = re.findall(r'\\b\\w{6,}\\b', text)\n",
        "print(\"Words with more than 5 letters:\", long_words)\n",
        "\n",
        "numbers = re.findall(r'\\d+', text)\n",
        "print(\"Numbers in the text:\", numbers)\n",
        "\n",
        "capitalized_words = re.findall(r'\\b[A-Z][a-z]*\\b', text)\n",
        "print(\"Capitalized words:\", capitalized_words)"
      ],
      "metadata": {
        "colab": {
          "base_uri": "https://localhost:8080/"
        },
        "id": "wzooxD5qDOo1",
        "outputId": "88429fce-f9cd-442d-c2c7-e82876cf2525"
      },
      "execution_count": 4,
      "outputs": [
        {
          "output_type": "stream",
          "name": "stdout",
          "text": [
            "Words with more than 5 letters: ['painting', 'reading', 'reflect', 'respond', 'texture', 'activities', 'require', 'attention']\n",
            "Numbers in the text: []\n",
            "Capitalized words: ['I', 'They', 'It', 'Both']\n"
          ]
        }
      ]
    },
    {
      "cell_type": "code",
      "source": [
        "words_only = re.findall(r'[a-zA-Z]+', text)\n",
        "print(\"Words containing only alphabets:\", words_only)\n",
        "\n",
        "vowel_words = [i for i in words_only if i[0].lower() in 'aeiou']\n",
        "print(\"Words starting with a vowel:\", vowel_words)"
      ],
      "metadata": {
        "colab": {
          "base_uri": "https://localhost:8080/"
        },
        "id": "jG737HqLDSiE",
        "outputId": "ced35c79-7a5f-438a-960f-772dfcca19b1"
      },
      "execution_count": 5,
      "outputs": [
        {
          "output_type": "stream",
          "name": "stdout",
          "text": [
            "Words containing only alphabets: ['I', 'love', 'painting', 'and', 'reading', 'They', 'help', 'me', 'relax', 'and', 'make', 'me', 'happy', 'It', 'helps', 'me', 'reflect', 'and', 'respond', 'in', 'color', 'and', 'texture', 'Both', 'activities', 'require', 'focus', 'and', 'attention']\n",
            "Words starting with a vowel: ['I', 'and', 'and', 'It', 'and', 'in', 'and', 'activities', 'and', 'attention']\n"
          ]
        }
      ]
    },
    {
      "cell_type": "code",
      "source": [
        "text = re.sub(r\"[^\\w\\s'-]\", \"\", text)\n",
        "\n",
        "text = re.sub(r'\\b([a-zA-Z]+(?:-[a-zA-Z]+)+)\\b', r'\\1', text)\n",
        "\n",
        "text = re.sub(r'(\\d+\\.\\d+|\\d+)', r' \\1 ',text)\n",
        "\n",
        "tokens = text.split()\n",
        "print(\"Tokens:\", tokens)"
      ],
      "metadata": {
        "colab": {
          "base_uri": "https://localhost:8080/"
        },
        "id": "QeDtcu9RDXBS",
        "outputId": "249ba1f1-6c9f-4af2-ee3d-8b0b7ffb2a91"
      },
      "execution_count": 6,
      "outputs": [
        {
          "output_type": "stream",
          "name": "stdout",
          "text": [
            "Tokens: ['I', 'love', 'painting', 'and', 'reading', 'They', 'help', 'me', 'relax', 'and', 'make', 'me', 'happy', 'It', 'helps', 'me', 'reflect', 'and', 'respond', 'in', 'color', 'and', 'texture', 'Both', 'activities', 'require', 'focus', 'and', 'attention']\n"
          ]
        }
      ]
    },
    {
      "cell_type": "code",
      "source": [
        "text1= \"Contact me at xyz@example.com or call +91 8887770999\"\n",
        "\n",
        "text1 = re.sub(r'\\b[A-Za-z0-9._%+-]+@[A-Za-z0-9.-]+\\.[A-Za-z]{2,}\\b', '<EMAIL>', text1)\n",
        "\n",
        "text1 = re.sub(r'http[s]?://(?:[a-zA-Z]|[0-9]|[$-_@.&+]|[!*\\\\(\\\\),]|(?:%[0-9a-fA-F][0-9a-fA-F]))+', '<URL>', text1)\n",
        "\n",
        "text1 = re.sub(r'\\b(\\+?\\d{1,2}\\s?)?(\\(?\\d{3}\\)?[-.\\s]?)?(\\d{3})[-.\\s]?(\\d{4})\\b', '<PHONE>', text1)\n",
        "\n",
        "print(\"\\nModified Text:\", text1)"
      ],
      "metadata": {
        "colab": {
          "base_uri": "https://localhost:8080/"
        },
        "id": "ZprHeQw8DdrA",
        "outputId": "b083705a-3339-4aaa-90a0-e0a0862cb197"
      },
      "execution_count": 7,
      "outputs": [
        {
          "output_type": "stream",
          "name": "stdout",
          "text": [
            "\n",
            "Modified Text: Contact me at <EMAIL> or call +<PHONE>\n"
          ]
        }
      ]
    }
  ]
}