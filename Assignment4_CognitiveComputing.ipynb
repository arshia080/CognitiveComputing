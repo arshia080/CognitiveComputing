{
  "nbformat": 4,
  "nbformat_minor": 0,
  "metadata": {
    "colab": {
      "provenance": []
    },
    "kernelspec": {
      "name": "python3",
      "display_name": "Python 3"
    },
    "language_info": {
      "name": "python"
    }
  },
  "cells": [
    {
      "cell_type": "code",
      "execution_count": 5,
      "metadata": {
        "colab": {
          "base_uri": "https://localhost:8080/"
        },
        "id": "lL2MlfRLBGz0",
        "outputId": "f298d7e0-2a90-4fb0-ea5d-bfadbd6c0b4b"
      },
      "outputs": [
        {
          "output_type": "stream",
          "name": "stdout",
          "text": [
            "[ 2  4  6  9 10]\n"
          ]
        }
      ],
      "source": [
        "import numpy as np\n",
        "array=np.array([2,4,6,9,10])\n",
        "print(array)\n"
      ]
    },
    {
      "cell_type": "code",
      "source": [
        "arr=array+2\n",
        "print(arr)"
      ],
      "metadata": {
        "colab": {
          "base_uri": "https://localhost:8080/"
        },
        "id": "oOJQbKYxBlSw",
        "outputId": "58f012a5-b120-4166-bee9-a1afb5d1f93c"
      },
      "execution_count": 6,
      "outputs": [
        {
          "output_type": "stream",
          "name": "stdout",
          "text": [
            "[ 4  6  8 11 12]\n"
          ]
        }
      ]
    },
    {
      "cell_type": "code",
      "source": [
        "arr1=array*3\n",
        "print(arr1)"
      ],
      "metadata": {
        "colab": {
          "base_uri": "https://localhost:8080/"
        },
        "id": "4n8LchPiBt8A",
        "outputId": "556a8b8c-5087-45ae-c911-48fae41f70fa"
      },
      "execution_count": 7,
      "outputs": [
        {
          "output_type": "stream",
          "name": "stdout",
          "text": [
            "[ 6 12 18 27 30]\n"
          ]
        }
      ]
    },
    {
      "cell_type": "code",
      "source": [
        "arr2=array/2\n",
        "print(arr2)"
      ],
      "metadata": {
        "colab": {
          "base_uri": "https://localhost:8080/"
        },
        "id": "7WXSNSiJByx0",
        "outputId": "1a911e58-6213-4fcf-bf41-df7824cd889e"
      },
      "execution_count": 8,
      "outputs": [
        {
          "output_type": "stream",
          "name": "stdout",
          "text": [
            "[1.  2.  3.  4.5 5. ]\n"
          ]
        }
      ]
    },
    {
      "cell_type": "code",
      "source": [
        "import numpy as np\n",
        "arr=np.array([1,2,3,6,4,5])\n",
        "Reversed=arr[::-1]\n",
        "print(Reversed)"
      ],
      "metadata": {
        "colab": {
          "base_uri": "https://localhost:8080/"
        },
        "id": "MuvzVNoeCERS",
        "outputId": "c4576daa-7149-4a82-fc02-cc12c2f8ca77"
      },
      "execution_count": 9,
      "outputs": [
        {
          "output_type": "stream",
          "name": "stdout",
          "text": [
            "[5 4 6 3 2 1]\n"
          ]
        }
      ]
    },
    {
      "cell_type": "code",
      "source": [
        "x=np.array([1,2,3,4,5,1,2,1,1,1])\n",
        "unique_element,count=np.unique(x,return_counts=True)\n",
        "m1=np.argmax(count)\n",
        "m2=unique_element[m1]\n",
        "print(m2)\n",
        "indices = np.where(x== m2)[0]\n",
        "print(indices)"
      ],
      "metadata": {
        "colab": {
          "base_uri": "https://localhost:8080/"
        },
        "id": "NpJCze8KCed7",
        "outputId": "b86a654f-0ac2-4274-8dac-4c331207d5a3"
      },
      "execution_count": 18,
      "outputs": [
        {
          "output_type": "stream",
          "name": "stdout",
          "text": [
            "1\n",
            "[0 5 7 8 9]\n"
          ]
        }
      ]
    },
    {
      "cell_type": "code",
      "source": [
        "y=np.array([1, 1, 1, 2, 3, 4, 2, 4, 3, 3, ])\n",
        "unique_element,count=np.unique(y,return_counts=True)\n",
        "m1=np.argmax(count)\n",
        "m2=unique_element[m1]\n",
        "print(m2)\n",
        "indices = np.where(y== m2)[0]\n",
        "print(indices)"
      ],
      "metadata": {
        "colab": {
          "base_uri": "https://localhost:8080/"
        },
        "id": "eg9x0B12EoWl",
        "outputId": "a513d6df-c4e5-4210-f403-b08a4a964376"
      },
      "execution_count": 19,
      "outputs": [
        {
          "output_type": "stream",
          "name": "stdout",
          "text": [
            "1\n",
            "[0 1 2]\n"
          ]
        }
      ]
    },
    {
      "cell_type": "code",
      "source": [
        "import numpy as np\n",
        "arr=np.array([[10, 20, 30], [40, 50, 60], [70, 80, 90]])\n",
        "element=arr[0,1]\n",
        "print(element)"
      ],
      "metadata": {
        "colab": {
          "base_uri": "https://localhost:8080/"
        },
        "id": "YhEOFkhWE3ds",
        "outputId": "88eee67a-590c-4c72-fef0-0ea562158e60"
      },
      "execution_count": 22,
      "outputs": [
        {
          "output_type": "stream",
          "name": "stdout",
          "text": [
            "20\n"
          ]
        }
      ]
    },
    {
      "cell_type": "code",
      "source": [
        "import numpy as np\n",
        "arr=np.array([[10, 20, 30], [40, 50, 60], [70, 80, 90]])\n",
        "element=arr[2,0]\n",
        "print(element)"
      ],
      "metadata": {
        "colab": {
          "base_uri": "https://localhost:8080/"
        },
        "id": "QiPozVG2GGf9",
        "outputId": "83569864-2080-4b38-b348-80e54eba3ce0"
      },
      "execution_count": 23,
      "outputs": [
        {
          "output_type": "stream",
          "name": "stdout",
          "text": [
            "70\n"
          ]
        }
      ]
    },
    {
      "cell_type": "code",
      "source": [
        "import numpy as np\n",
        "arshia=np.linspace(10,100,25)\n",
        "print(arshia)\n",
        "\n",
        "dim=arshia.ndim\n",
        "print(\"Dimensions of the array:\",dim)\n",
        "\n",
        "shape=arshia.shape\n",
        "print(\"Shape the array :\",shape)\n",
        "\n",
        "Total=arshia.size\n",
        "print(\"Total number of elemets:\",Total)\n",
        "\n",
        "data_type=arshia.dtype\n",
        "print(\"Data type:\",data_type)\n",
        "\n",
        "byte=arshia.nbytes\n",
        "print(\"Total number of bytes:\",byte)\n",
        "\n",
        "transpose=np.reshape(arshia,(25,))\n",
        "print(\"Transpose of arshia:\",transpose)\n",
        "t=arshia.T\n",
        "print(t)"
      ],
      "metadata": {
        "colab": {
          "base_uri": "https://localhost:8080/"
        },
        "id": "DaRDOBP-GkHC",
        "outputId": "2332c72b-c374-44d5-a6f6-46597d15cf65"
      },
      "execution_count": 46,
      "outputs": [
        {
          "output_type": "stream",
          "name": "stdout",
          "text": [
            "[ 10.    13.75  17.5   21.25  25.    28.75  32.5   36.25  40.    43.75\n",
            "  47.5   51.25  55.    58.75  62.5   66.25  70.    73.75  77.5   81.25\n",
            "  85.    88.75  92.5   96.25 100.  ]\n",
            "Dimensions of the array: 1\n",
            "Shape the array : (25,)\n",
            "Total number of elemets: 25\n",
            "Data type: float64\n",
            "Total number of bytes: 200\n",
            "Transpose of arshia: [ 10.    13.75  17.5   21.25  25.    28.75  32.5   36.25  40.    43.75\n",
            "  47.5   51.25  55.    58.75  62.5   66.25  70.    73.75  77.5   81.25\n",
            "  85.    88.75  92.5   96.25 100.  ]\n",
            "[ 10.    13.75  17.5   21.25  25.    28.75  32.5   36.25  40.    43.75\n",
            "  47.5   51.25  55.    58.75  62.5   66.25  70.    73.75  77.5   81.25\n",
            "  85.    88.75  92.5   96.25 100.  ]\n"
          ]
        }
      ]
    },
    {
      "cell_type": "code",
      "source": [
        "import numpy as np\n",
        "ucs420_arshia=np.array([[10, 20, 30,40],[ 50, 60, 70, 80],[ 90, 15, 20, 35]])\n",
        "print(ucs420_arshia)\n",
        "\n",
        "m1=np.mean(ucs420_arshia)\n",
        "print(\"Mean: \",m1)\n",
        "\n",
        "m2=np.median(ucs420_arshia)\n",
        "print(\"Median:\",m2)\n",
        "\n",
        "m3=np.max(ucs420_arshia)\n",
        "print(\"Max:\",m3)\n",
        "\n",
        "m4=np.min(ucs420_arshia)\n",
        "print(\"Min:\",m4)\n",
        "\n",
        "m5=np.unique(ucs420_arshia)\n",
        "print(\"Unique elements:\",m5)\n",
        "\n",
        "Reshaped_ucs420_arshia=np.reshape(ucs420_arshia,(4,3))\n",
        "print(\"Reshaped Array:\",Reshaped_ucs420_arshia)\n",
        "\n",
        "Resized_ucs420_arshia=np.resize(ucs420_arshia,(2,3))\n",
        "print(\"Resized Array:\",Resized_ucs420_arshia)"
      ],
      "metadata": {
        "colab": {
          "base_uri": "https://localhost:8080/"
        },
        "id": "dOWXW1G-IalQ",
        "outputId": "5f866651-bbf0-4716-d32d-ab4818cad3a3"
      },
      "execution_count": 45,
      "outputs": [
        {
          "output_type": "stream",
          "name": "stdout",
          "text": [
            "[[10 20 30 40]\n",
            " [50 60 70 80]\n",
            " [90 15 20 35]]\n",
            "Mean:  43.333333333333336\n",
            "Median: 37.5\n",
            "Max: 90\n",
            "Min: 10\n",
            "Unique elements: [10 15 20 30 35 40 50 60 70 80 90]\n",
            "Reshaped Array: [[10 20 30]\n",
            " [40 50 60]\n",
            " [70 80 90]\n",
            " [15 20 35]]\n",
            "Resized Array: [[10 20 30]\n",
            " [40 50 60]]\n"
          ]
        }
      ]
    }
  ]
}