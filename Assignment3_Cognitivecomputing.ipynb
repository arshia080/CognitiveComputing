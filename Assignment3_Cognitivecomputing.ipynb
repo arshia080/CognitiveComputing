{
  "nbformat": 4,
  "nbformat_minor": 0,
  "metadata": {
    "colab": {
      "provenance": []
    },
    "kernelspec": {
      "name": "python3",
      "display_name": "Python 3"
    },
    "language_info": {
      "name": "python"
    }
  },
  "cells": [
    {
      "cell_type": "code",
      "execution_count": 6,
      "metadata": {
        "colab": {
          "base_uri": "https://localhost:8080/"
        },
        "id": "9s-jNMsaQFqT",
        "outputId": "89fc7cdf-a711-4439-ba10-4873990eb863"
      },
      "outputs": [
        {
          "output_type": "stream",
          "name": "stdout",
          "text": [
            "   Tid Refund Marital Status  Taxable Income Cheat\n",
            "0    1    Yes         Single          125000    No\n",
            "1    2     No        Married          100000    No\n",
            "2    3     No         Single           70000    No\n",
            "3    4    Yes        Married          120000    No\n",
            "4    5     No       Divorced           95000   Yes\n",
            "5    6     No        Married           60000    No\n",
            "6    7    Yes       Divorced          220000    No\n",
            "7    8     No         Single           85000   Yes\n",
            "8    9     No        Married           75000    No\n",
            "9   10     No         Single           90000   Yes\n"
          ]
        }
      ],
      "source": [
        "import pandas as pd\n",
        "Data={\n",
        "    \"Tid\":[1,2,3,4,5,6,7,8,9,10],\n",
        "    \"Refund\":[\"Yes\",\"No\",\"No\",\"Yes\",\"No\",\"No\",\"Yes\",\"No\",\"No\",\"No\"],\n",
        "    \"Marital Status\":[\"Single\",\"Married\",\"Single\",\"Married\",\"Divorced\",\"Married\",\"Divorced\",\"Single\",\"Married\",\"Single\"],\n",
        "    \"Taxable Income\":[125000,100000,70000,120000,95000,60000,220000,85000,75000,90000],\n",
        "    \"Cheat\":[\"No\",\"No\",\"No\",\"No\",\"Yes\",\"No\",\"No\",\"Yes\",\"No\",\"Yes\"]\n",
        "}\n",
        "da=pd.DataFrame(Data)\n",
        "print(da)"
      ]
    },
    {
      "cell_type": "code",
      "source": [
        "print(da.iloc[[0,4,7,8]])"
      ],
      "metadata": {
        "colab": {
          "base_uri": "https://localhost:8080/"
        },
        "id": "BmPkVUrjUaMK",
        "outputId": "e6433ad0-9cb6-473f-b76e-55f1e393ef3f"
      },
      "execution_count": 7,
      "outputs": [
        {
          "output_type": "stream",
          "name": "stdout",
          "text": [
            "   Tid Refund Marital Status  Taxable Income Cheat\n",
            "0    1    Yes         Single          125000    No\n",
            "4    5     No       Divorced           95000   Yes\n",
            "7    8     No         Single           85000   Yes\n",
            "8    9     No        Married           75000    No\n"
          ]
        }
      ]
    },
    {
      "cell_type": "code",
      "source": [
        "print(da.iloc[3:8])"
      ],
      "metadata": {
        "colab": {
          "base_uri": "https://localhost:8080/"
        },
        "id": "h5S-DzOcVO3J",
        "outputId": "f1924b2f-c11c-42c9-c7df-e0df8d9c2809"
      },
      "execution_count": 8,
      "outputs": [
        {
          "output_type": "stream",
          "name": "stdout",
          "text": [
            "   Tid Refund Marital Status  Taxable Income Cheat\n",
            "3    4    Yes        Married          120000    No\n",
            "4    5     No       Divorced           95000   Yes\n",
            "5    6     No        Married           60000    No\n",
            "6    7    Yes       Divorced          220000    No\n",
            "7    8     No         Single           85000   Yes\n"
          ]
        }
      ]
    },
    {
      "cell_type": "code",
      "source": [
        "print(da.iloc[4:9,2:5])"
      ],
      "metadata": {
        "colab": {
          "base_uri": "https://localhost:8080/"
        },
        "id": "wUsH5FgeVneP",
        "outputId": "4cd9ef15-c15e-4c13-a50c-df02b9d5b9c6"
      },
      "execution_count": 9,
      "outputs": [
        {
          "output_type": "stream",
          "name": "stdout",
          "text": [
            "  Marital Status  Taxable Income Cheat\n",
            "4       Divorced           95000   Yes\n",
            "5        Married           60000    No\n",
            "6       Divorced          220000    No\n",
            "7         Single           85000   Yes\n",
            "8        Married           75000    No\n"
          ]
        }
      ]
    },
    {
      "cell_type": "code",
      "source": [
        "print(da.iloc[0:10,1:4])"
      ],
      "metadata": {
        "colab": {
          "base_uri": "https://localhost:8080/"
        },
        "id": "4od32oVYWOO4",
        "outputId": "0b84877e-2887-4975-9181-bb711be12d18"
      },
      "execution_count": 10,
      "outputs": [
        {
          "output_type": "stream",
          "name": "stdout",
          "text": [
            "  Refund Marital Status  Taxable Income\n",
            "0    Yes         Single          125000\n",
            "1     No        Married          100000\n",
            "2     No         Single           70000\n",
            "3    Yes        Married          120000\n",
            "4     No       Divorced           95000\n",
            "5     No        Married           60000\n",
            "6    Yes       Divorced          220000\n",
            "7     No         Single           85000\n",
            "8     No        Married           75000\n",
            "9     No         Single           90000\n"
          ]
        }
      ]
    },
    {
      "cell_type": "code",
      "source": [
        "import pandas as pd\n",
        "df_csv=pd.read_csv('https://raw.githubusercontent.com/mwaskom/seaborn-data/master/iris.csv')\n",
        "print(df_csv.head())\n"
      ],
      "metadata": {
        "colab": {
          "base_uri": "https://localhost:8080/"
        },
        "id": "SOYusS0OYvub",
        "outputId": "85d971a5-e13e-4611-b0ec-70151cd15dcc"
      },
      "execution_count": 11,
      "outputs": [
        {
          "output_type": "stream",
          "name": "stdout",
          "text": [
            "   sepal_length  sepal_width  petal_length  petal_width species\n",
            "0           5.1          3.5           1.4          0.2  setosa\n",
            "1           4.9          3.0           1.4          0.2  setosa\n",
            "2           4.7          3.2           1.3          0.2  setosa\n",
            "3           4.6          3.1           1.5          0.2  setosa\n",
            "4           5.0          3.6           1.4          0.2  setosa\n"
          ]
        }
      ]
    },
    {
      "cell_type": "code",
      "source": [
        "da=df_csv.drop(index=3)\n",
        "da=df_csv.drop(columns=df_csv.columns[2])\n",
        "print(da)"
      ],
      "metadata": {
        "colab": {
          "base_uri": "https://localhost:8080/"
        },
        "id": "OWx7uA3JZ8cN",
        "outputId": "64cede5e-eaaf-4b9a-a046-67af3098516d"
      },
      "execution_count": 14,
      "outputs": [
        {
          "output_type": "stream",
          "name": "stdout",
          "text": [
            "     sepal_length  sepal_width  petal_width    species\n",
            "0             5.1          3.5          0.2     setosa\n",
            "1             4.9          3.0          0.2     setosa\n",
            "2             4.7          3.2          0.2     setosa\n",
            "3             4.6          3.1          0.2     setosa\n",
            "4             5.0          3.6          0.2     setosa\n",
            "..            ...          ...          ...        ...\n",
            "145           6.7          3.0          2.3  virginica\n",
            "146           6.3          2.5          1.9  virginica\n",
            "147           6.5          3.0          2.0  virginica\n",
            "148           6.2          3.4          2.3  virginica\n",
            "149           5.9          3.0          1.8  virginica\n",
            "\n",
            "[150 rows x 4 columns]\n"
          ]
        }
      ]
    },
    {
      "cell_type": "code",
      "source": [
        "import pandas as pd\n",
        "Data={\n",
        "    \"Employee_ID\":[101,102,103,104,105],\n",
        "    \"Name\":[\"Alice\",\"Bob\",\"Charlie\",\"Diana\",\"Edward\"],\n",
        "    \"Department\":[\"HR\",\"IT\",\"IT\",\"Marketing\",\"Sales\"],\n",
        "    \"Age\":[29,34,41,28,38],\n",
        "    \"Salary\":[50000,70000,65000,55000,60000],\n",
        "    \"Year_of_Experience\":[4,8,10,3,12],\n",
        "    \"Joining_Date\":[\"2020-03-15\",\"2017-07-19\",\"2013-06-01\",\"2021-02-10\",\"2010-11-25\"],\n",
        "    \"Gender\":[\"Female\",\"Male\",\"Male\",\"Female\",\"Male\"],\n",
        "    \"Bonus\":[5000,7000,6000,4500,5000],\n",
        "    \"Rating\":[4.5,4.0,3.8,4.7,3.5]\n",
        "}\n",
        "d=pd.DataFrame(Data)\n",
        "print(d)"
      ],
      "metadata": {
        "colab": {
          "base_uri": "https://localhost:8080/"
        },
        "id": "1-93apwfawZz",
        "outputId": "118f1891-096c-40ec-cde9-263f7bdb0c60"
      },
      "execution_count": 17,
      "outputs": [
        {
          "output_type": "stream",
          "name": "stdout",
          "text": [
            "   Employee_ID     Name Department  Age  Salary  Year_of_Experience  \\\n",
            "0          101    Alice         HR   29   50000                   4   \n",
            "1          102      Bob         IT   34   70000                   8   \n",
            "2          103  Charlie         IT   41   65000                  10   \n",
            "3          104    Diana  Marketing   28   55000                   3   \n",
            "4          105   Edward      Sales   38   60000                  12   \n",
            "\n",
            "  Joining_Date  Gender  Bonus  Rating  \n",
            "0   2020-03-15  Female   5000     4.5  \n",
            "1   2017-07-19    Male   7000     4.0  \n",
            "2   2013-06-01    Male   6000     3.8  \n",
            "3   2021-02-10  Female   4500     4.7  \n",
            "4   2010-11-25    Male   5000     3.5  \n"
          ]
        }
      ]
    },
    {
      "cell_type": "code",
      "source": [
        "print(\"Shape:\",d.shape)"
      ],
      "metadata": {
        "colab": {
          "base_uri": "https://localhost:8080/"
        },
        "id": "D_E4XZ2qeKUK",
        "outputId": "03b27fa3-932e-484d-adc5-7d26346aed00"
      },
      "execution_count": 18,
      "outputs": [
        {
          "output_type": "stream",
          "name": "stdout",
          "text": [
            "Shape: (5, 10)\n"
          ]
        }
      ]
    },
    {
      "cell_type": "code",
      "source": [
        "print(d.info())"
      ],
      "metadata": {
        "colab": {
          "base_uri": "https://localhost:8080/"
        },
        "id": "kCQ_aswtgICP",
        "outputId": "e5ffcf31-84df-4c36-e52d-772c4b20072c"
      },
      "execution_count": 19,
      "outputs": [
        {
          "output_type": "stream",
          "name": "stdout",
          "text": [
            "<class 'pandas.core.frame.DataFrame'>\n",
            "RangeIndex: 5 entries, 0 to 4\n",
            "Data columns (total 10 columns):\n",
            " #   Column              Non-Null Count  Dtype  \n",
            "---  ------              --------------  -----  \n",
            " 0   Employee_ID         5 non-null      int64  \n",
            " 1   Name                5 non-null      object \n",
            " 2   Department          5 non-null      object \n",
            " 3   Age                 5 non-null      int64  \n",
            " 4   Salary              5 non-null      int64  \n",
            " 5   Year_of_Experience  5 non-null      int64  \n",
            " 6   Joining_Date        5 non-null      object \n",
            " 7   Gender              5 non-null      object \n",
            " 8   Bonus               5 non-null      int64  \n",
            " 9   Rating              5 non-null      float64\n",
            "dtypes: float64(1), int64(5), object(4)\n",
            "memory usage: 532.0+ bytes\n",
            "None\n"
          ]
        }
      ]
    },
    {
      "cell_type": "code",
      "source": [
        "print(d.describe())"
      ],
      "metadata": {
        "colab": {
          "base_uri": "https://localhost:8080/"
        },
        "id": "Z4kzo4magTFO",
        "outputId": "9b2090b8-5204-4d88-8bc0-353abe8165cb"
      },
      "execution_count": 20,
      "outputs": [
        {
          "output_type": "stream",
          "name": "stdout",
          "text": [
            "       Employee_ID        Age       Salary  Year_of_Experience   Bonus  \\\n",
            "count     5.000000   5.000000      5.00000            5.000000     5.0   \n",
            "mean    103.000000  34.000000  60000.00000            7.400000  5500.0   \n",
            "std       1.581139   5.612486   7905.69415            3.847077  1000.0   \n",
            "min     101.000000  28.000000  50000.00000            3.000000  4500.0   \n",
            "25%     102.000000  29.000000  55000.00000            4.000000  5000.0   \n",
            "50%     103.000000  34.000000  60000.00000            8.000000  5000.0   \n",
            "75%     104.000000  38.000000  65000.00000           10.000000  6000.0   \n",
            "max     105.000000  41.000000  70000.00000           12.000000  7000.0   \n",
            "\n",
            "         Rating  \n",
            "count  5.000000  \n",
            "mean   4.100000  \n",
            "std    0.494975  \n",
            "min    3.500000  \n",
            "25%    3.800000  \n",
            "50%    4.000000  \n",
            "75%    4.500000  \n",
            "max    4.700000  \n"
          ]
        }
      ]
    },
    {
      "cell_type": "code",
      "source": [
        "print(d.iloc[0:5,7:10])"
      ],
      "metadata": {
        "colab": {
          "base_uri": "https://localhost:8080/"
        },
        "id": "EBZL_H53gXHv",
        "outputId": "e4b288cb-0d70-48e4-e51c-ecac70a02d04"
      },
      "execution_count": 21,
      "outputs": [
        {
          "output_type": "stream",
          "name": "stdout",
          "text": [
            "   Gender  Bonus  Rating\n",
            "0  Female   5000     4.5\n",
            "1    Male   7000     4.0\n",
            "2    Male   6000     3.8\n",
            "3  Female   4500     4.7\n",
            "4    Male   5000     3.5\n"
          ]
        }
      ]
    },
    {
      "cell_type": "code",
      "source": [
        "print(\"Average Salary:\",d[\"Salary\"].mean())"
      ],
      "metadata": {
        "colab": {
          "base_uri": "https://localhost:8080/"
        },
        "id": "uK3XOIhChnKX",
        "outputId": "31bee6d7-309d-4a9d-80f4-58b3bc5e05e5"
      },
      "execution_count": 22,
      "outputs": [
        {
          "output_type": "stream",
          "name": "stdout",
          "text": [
            "Average Salary: 60000.0\n"
          ]
        }
      ]
    },
    {
      "cell_type": "code",
      "source": [
        "print(\"Total Bonus:\",d[\"Bonus\"].sum())"
      ],
      "metadata": {
        "colab": {
          "base_uri": "https://localhost:8080/"
        },
        "id": "4rw5bslSjgxh",
        "outputId": "d3ebdfa3-d0e5-42ed-8c88-b98c1d988c87"
      },
      "execution_count": 23,
      "outputs": [
        {
          "output_type": "stream",
          "name": "stdout",
          "text": [
            "Total Bonus: 27500\n"
          ]
        }
      ]
    },
    {
      "cell_type": "code",
      "source": [
        "print(\"Youngest Employee Age:\",d[\"Age\"].min())"
      ],
      "metadata": {
        "colab": {
          "base_uri": "https://localhost:8080/"
        },
        "id": "1aHBVVRilgZL",
        "outputId": "a38badf1-161a-4755-a522-3a4169510bbb"
      },
      "execution_count": 24,
      "outputs": [
        {
          "output_type": "stream",
          "name": "stdout",
          "text": [
            "Youngest Employee Age: 28\n"
          ]
        }
      ]
    },
    {
      "cell_type": "code",
      "source": [
        "print(\"Highest Rating:\",d[\"Rating\"].max())"
      ],
      "metadata": {
        "colab": {
          "base_uri": "https://localhost:8080/"
        },
        "id": "bm9dWHCJmJKc",
        "outputId": "cedeb5ae-fcd8-4e5c-eb3e-f72381ffd13e"
      },
      "execution_count": 25,
      "outputs": [
        {
          "output_type": "stream",
          "name": "stdout",
          "text": [
            "Highest Rating: 4.7\n"
          ]
        }
      ]
    },
    {
      "cell_type": "code",
      "source": [
        "Sorted=d.sort_values(by=\"Salary\",ascending=False)\n",
        "print(Sorted)"
      ],
      "metadata": {
        "colab": {
          "base_uri": "https://localhost:8080/"
        },
        "id": "Eb3N8s7-mgIt",
        "outputId": "5f0232c1-ef7a-4ab2-90db-58cd2e39bf22"
      },
      "execution_count": 26,
      "outputs": [
        {
          "output_type": "stream",
          "name": "stdout",
          "text": [
            "   Employee_ID     Name Department  Age  Salary  Year_of_Experience  \\\n",
            "1          102      Bob         IT   34   70000                   8   \n",
            "2          103  Charlie         IT   41   65000                  10   \n",
            "4          105   Edward      Sales   38   60000                  12   \n",
            "3          104    Diana  Marketing   28   55000                   3   \n",
            "0          101    Alice         HR   29   50000                   4   \n",
            "\n",
            "  Joining_Date  Gender  Bonus  Rating  \n",
            "1   2017-07-19    Male   7000     4.0  \n",
            "2   2013-06-01    Male   6000     3.8  \n",
            "4   2010-11-25    Male   5000     3.5  \n",
            "3   2021-02-10  Female   4500     4.7  \n",
            "0   2020-03-15  Female   5000     4.5  \n"
          ]
        }
      ]
    },
    {
      "cell_type": "code",
      "source": [
        "d[\"Performance\"]=pd.cut(\n",
        "    d[\"Rating\"],\n",
        "    bins=[0,4.0,4.5,5],\n",
        "    labels=[\"Average\",\"Good\",\"Excellent\"]\n",
        ")\n",
        "print(d[[\"Name\",\"Performance\"]])"
      ],
      "metadata": {
        "colab": {
          "base_uri": "https://localhost:8080/"
        },
        "id": "URXJbyDjoymh",
        "outputId": "1d24ff27-49c3-441b-e103-1b4334916fa8"
      },
      "execution_count": 27,
      "outputs": [
        {
          "output_type": "stream",
          "name": "stdout",
          "text": [
            "      Name Performance\n",
            "0    Alice        Good\n",
            "1      Bob     Average\n",
            "2  Charlie     Average\n",
            "3    Diana   Excellent\n",
            "4   Edward     Average\n"
          ]
        }
      ]
    },
    {
      "cell_type": "code",
      "source": [
        "print(d.isnull().sum())"
      ],
      "metadata": {
        "colab": {
          "base_uri": "https://localhost:8080/"
        },
        "id": "gNe1RtOypZ-T",
        "outputId": "9e7f52fd-95db-4387-f9bc-4f8e4bf27e1c"
      },
      "execution_count": 28,
      "outputs": [
        {
          "output_type": "stream",
          "name": "stdout",
          "text": [
            "Employee_ID           0\n",
            "Name                  0\n",
            "Department            0\n",
            "Age                   0\n",
            "Salary                0\n",
            "Year_of_Experience    0\n",
            "Joining_Date          0\n",
            "Gender                0\n",
            "Bonus                 0\n",
            "Rating                0\n",
            "Performance           0\n",
            "dtype: int64\n"
          ]
        }
      ]
    },
    {
      "cell_type": "code",
      "source": [
        "d=d.rename(columns={'Employee_ID':'ID'})\n",
        "print(d)"
      ],
      "metadata": {
        "colab": {
          "base_uri": "https://localhost:8080/"
        },
        "id": "icvCPf_sp2Lp",
        "outputId": "20a90cb5-9cf1-4278-9adb-03717ad5e0fd"
      },
      "execution_count": 29,
      "outputs": [
        {
          "output_type": "stream",
          "name": "stdout",
          "text": [
            "    ID     Name Department  Age  Salary  Year_of_Experience Joining_Date  \\\n",
            "0  101    Alice         HR   29   50000                   4   2020-03-15   \n",
            "1  102      Bob         IT   34   70000                   8   2017-07-19   \n",
            "2  103  Charlie         IT   41   65000                  10   2013-06-01   \n",
            "3  104    Diana  Marketing   28   55000                   3   2021-02-10   \n",
            "4  105   Edward      Sales   38   60000                  12   2010-11-25   \n",
            "\n",
            "   Gender  Bonus  Rating Performance  \n",
            "0  Female   5000     4.5        Good  \n",
            "1    Male   7000     4.0     Average  \n",
            "2    Male   6000     3.8     Average  \n",
            "3  Female   4500     4.7   Excellent  \n",
            "4    Male   5000     3.5     Average  \n"
          ]
        }
      ]
    },
    {
      "cell_type": "code",
      "source": [
        "Filtered=d[(d[\"Year_of_Experience\"]>5)&(d[\"Department\"] == \"IT\")]\n",
        "print(Filtered)"
      ],
      "metadata": {
        "colab": {
          "base_uri": "https://localhost:8080/"
        },
        "id": "XzNdnBNJqT4Y",
        "outputId": "64fe6b9c-8f88-4cea-8ff4-2384c2893af4"
      },
      "execution_count": 31,
      "outputs": [
        {
          "output_type": "stream",
          "name": "stdout",
          "text": [
            "    ID     Name Department  Age  Salary  Year_of_Experience Joining_Date  \\\n",
            "1  102      Bob         IT   34   70000                   8   2017-07-19   \n",
            "2  103  Charlie         IT   41   65000                  10   2013-06-01   \n",
            "\n",
            "  Gender  Bonus  Rating Performance  \n",
            "1   Male   7000     4.0     Average  \n",
            "2   Male   6000     3.8     Average  \n"
          ]
        }
      ]
    },
    {
      "cell_type": "code",
      "source": [
        "d[\"Tax\"]=d[\"Salary\"]*0.1\n",
        "print(d)"
      ],
      "metadata": {
        "colab": {
          "base_uri": "https://localhost:8080/"
        },
        "id": "-LUr5nPVrCXE",
        "outputId": "6cf9bf4a-be68-4b76-859e-008583d16595"
      },
      "execution_count": 32,
      "outputs": [
        {
          "output_type": "stream",
          "name": "stdout",
          "text": [
            "    ID     Name Department  Age  Salary  Year_of_Experience Joining_Date  \\\n",
            "0  101    Alice         HR   29   50000                   4   2020-03-15   \n",
            "1  102      Bob         IT   34   70000                   8   2017-07-19   \n",
            "2  103  Charlie         IT   41   65000                  10   2013-06-01   \n",
            "3  104    Diana  Marketing   28   55000                   3   2021-02-10   \n",
            "4  105   Edward      Sales   38   60000                  12   2010-11-25   \n",
            "\n",
            "   Gender  Bonus  Rating Performance     Tax  \n",
            "0  Female   5000     4.5        Good  5000.0  \n",
            "1    Male   7000     4.0     Average  7000.0  \n",
            "2    Male   6000     3.8     Average  6500.0  \n",
            "3  Female   4500     4.7   Excellent  5500.0  \n",
            "4    Male   5000     3.5     Average  6000.0  \n"
          ]
        }
      ]
    },
    {
      "cell_type": "code",
      "source": [
        "d.to_csv(\"Modified_Employees.csv\",index=False)\n",
        "print(\"DataFrame saved to 'Modified_Employees.csv'\")"
      ],
      "metadata": {
        "colab": {
          "base_uri": "https://localhost:8080/"
        },
        "id": "LKwczqcrrMeG",
        "outputId": "1ccec33f-5a54-4dde-c4e1-5aeb597f98b9"
      },
      "execution_count": 33,
      "outputs": [
        {
          "output_type": "stream",
          "name": "stdout",
          "text": [
            "DataFrame saved to 'Modified_Employees.csv'\n"
          ]
        }
      ]
    }
  ]
}